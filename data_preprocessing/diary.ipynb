{
 "cells": [
  {
   "cell_type": "code",
   "id": "initial_id",
   "metadata": {
    "collapsed": true,
    "ExecuteTime": {
     "end_time": "2025-03-15T18:01:15.003952Z",
     "start_time": "2025-03-15T18:01:14.998151Z"
    }
   },
   "source": [
    "import numpy as np\n",
    "import pandas as pd"
   ],
   "outputs": [],
   "execution_count": 11
  },
  {
   "metadata": {
    "ExecuteTime": {
     "end_time": "2025-03-15T18:01:17.700643Z",
     "start_time": "2025-03-15T18:01:15.018026Z"
    }
   },
   "cell_type": "code",
   "source": [
    "df = pd.read_excel(\"../data/Dailylog data -lifelog/Diary.xlsx\",parse_dates=[\"Date \"])\n",
    "df.shape"
   ],
   "id": "dc3be507d3a0c92f",
   "outputs": [
    {
     "data": {
      "text/plain": [
       "(430, 5)"
      ]
     },
     "execution_count": 12,
     "metadata": {},
     "output_type": "execute_result"
    }
   ],
   "execution_count": 12
  },
  {
   "metadata": {
    "ExecuteTime": {
     "end_time": "2025-03-15T18:01:17.745543Z",
     "start_time": "2025-03-15T18:01:17.736226Z"
    }
   },
   "cell_type": "code",
   "source": "df.rename(columns={\"Non-identifying keys \":\"id\"},inplace=True)",
   "id": "79b09c009e1d1355",
   "outputs": [],
   "execution_count": 13
  },
  {
   "metadata": {
    "ExecuteTime": {
     "end_time": "2025-03-15T18:01:17.780011Z",
     "start_time": "2025-03-15T18:01:17.770915Z"
    }
   },
   "cell_type": "code",
   "source": "df.drop(columns=[\"Time \",\"Contents \"],inplace=True)",
   "id": "92506ccae5117bef",
   "outputs": [],
   "execution_count": 14
  },
  {
   "metadata": {
    "ExecuteTime": {
     "end_time": "2025-03-15T18:01:17.847521Z",
     "start_time": "2025-03-15T18:01:17.823386Z"
    }
   },
   "cell_type": "code",
   "source": [
    "print(df[[\"id\",\"Date \"]].duplicated().sum())\n",
    "df = df.drop_duplicates(subset=[\"id\", \"Date \"], keep='first')\n",
    "print(df[[\"id\",\"Date \"]].duplicated().sum())"
   ],
   "id": "bfde492c45c75251",
   "outputs": [
    {
     "name": "stdout",
     "output_type": "stream",
     "text": [
      "66\n",
      "0\n"
     ]
    }
   ],
   "execution_count": 15
  },
  {
   "metadata": {
    "ExecuteTime": {
     "end_time": "2025-03-15T18:01:17.997501Z",
     "start_time": "2025-03-15T18:01:17.977588Z"
    }
   },
   "cell_type": "code",
   "source": [
    "df.columns=df.columns.str.lower()\n",
    "df.columns=df.columns.str.rstrip()\n",
    "df.to_csv(\"../data_processed/daily_lifelog/diary.csv\",index=False)"
   ],
   "id": "d5ecea93ddfa012f",
   "outputs": [],
   "execution_count": 16
  }
 ],
 "metadata": {
  "kernelspec": {
   "display_name": "Python 3",
   "language": "python",
   "name": "python3"
  },
  "language_info": {
   "codemirror_mode": {
    "name": "ipython",
    "version": 2
   },
   "file_extension": ".py",
   "mimetype": "text/x-python",
   "name": "python",
   "nbconvert_exporter": "python",
   "pygments_lexer": "ipython2",
   "version": "2.7.6"
  }
 },
 "nbformat": 4,
 "nbformat_minor": 5
}
