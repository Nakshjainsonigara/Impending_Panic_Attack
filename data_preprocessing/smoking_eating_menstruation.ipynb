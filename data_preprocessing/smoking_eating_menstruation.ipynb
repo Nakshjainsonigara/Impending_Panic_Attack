{
 "cells": [
  {
   "cell_type": "code",
   "id": "initial_id",
   "metadata": {
    "collapsed": true,
    "ExecuteTime": {
     "end_time": "2025-03-19T13:11:38.058204Z",
     "start_time": "2025-03-19T13:11:38.055336Z"
    }
   },
   "source": [
    "import numpy as np\n",
    "import pandas as pd"
   ],
   "outputs": [],
   "execution_count": 43
  },
  {
   "metadata": {
    "ExecuteTime": {
     "end_time": "2025-03-19T13:11:38.245530Z",
     "start_time": "2025-03-19T13:11:38.069496Z"
    }
   },
   "cell_type": "code",
   "source": "df = pd.read_excel(\"../data/Dailylog data -lifelog/Lifestyle - Smoking, Eating, Menstruation.xlsx\")",
   "id": "f087d3f850e58d90",
   "outputs": [],
   "execution_count": 44
  },
  {
   "metadata": {
    "ExecuteTime": {
     "end_time": "2025-03-19T13:11:38.267698Z",
     "start_time": "2025-03-19T13:11:38.254457Z"
    }
   },
   "cell_type": "code",
   "source": "df",
   "id": "3d43e9d98675c218",
   "outputs": [
    {
     "data": {
      "text/plain": [
       "     Non-identifying keys       Date  Amount smoked Breakfast Lunch Dinner  \\\n",
       "0              SYM2-1-278 2021-05-20            NaN       NaN   NaN    NaN   \n",
       "1              SYM2-1-288 2021-04-18            NaN       NaN   NaN    NaN   \n",
       "2              SYM2-1-292 2021-06-08            1.0         Y     N      N   \n",
       "3              SYM2-1-292 2021-06-07            4.0         N     Y      Y   \n",
       "4              SYM2-1-292 2021-06-06           10.0         N     Y      N   \n",
       "...                   ...        ...            ...       ...   ...    ...   \n",
       "1338           SYM2-1-634 2023-09-23           20.0         N     Y      N   \n",
       "1339           SYM2-1-634 2023-09-21           20.0         N     Y      N   \n",
       "1340           SYM2-1-634 2023-09-20           20.0         N     Y      N   \n",
       "1341           SYM2-1-634 2023-09-18           20.0         N     Y      N   \n",
       "1342           SYM2-1-634 2023-09-17           20.0         N     N      Y   \n",
       "\n",
       "     Morning snack Afternoon snack Midnight snacks Menstruation  \n",
       "0              NaN             NaN             NaN            Y  \n",
       "1              NaN             NaN             NaN            Y  \n",
       "2                N               N               N          NaN  \n",
       "3                N               N               N          NaN  \n",
       "4                N               N               N          NaN  \n",
       "...            ...             ...             ...          ...  \n",
       "1338             N               N               N          NaN  \n",
       "1339             N               N               N          NaN  \n",
       "1340             N               N               Y          NaN  \n",
       "1341             N               N               N          NaN  \n",
       "1342             N               N               Y          NaN  \n",
       "\n",
       "[1343 rows x 10 columns]"
      ],
      "text/html": [
       "<div>\n",
       "<style scoped>\n",
       "    .dataframe tbody tr th:only-of-type {\n",
       "        vertical-align: middle;\n",
       "    }\n",
       "\n",
       "    .dataframe tbody tr th {\n",
       "        vertical-align: top;\n",
       "    }\n",
       "\n",
       "    .dataframe thead th {\n",
       "        text-align: right;\n",
       "    }\n",
       "</style>\n",
       "<table border=\"1\" class=\"dataframe\">\n",
       "  <thead>\n",
       "    <tr style=\"text-align: right;\">\n",
       "      <th></th>\n",
       "      <th>Non-identifying keys</th>\n",
       "      <th>Date</th>\n",
       "      <th>Amount smoked</th>\n",
       "      <th>Breakfast</th>\n",
       "      <th>Lunch</th>\n",
       "      <th>Dinner</th>\n",
       "      <th>Morning snack</th>\n",
       "      <th>Afternoon snack</th>\n",
       "      <th>Midnight snacks</th>\n",
       "      <th>Menstruation</th>\n",
       "    </tr>\n",
       "  </thead>\n",
       "  <tbody>\n",
       "    <tr>\n",
       "      <th>0</th>\n",
       "      <td>SYM2-1-278</td>\n",
       "      <td>2021-05-20</td>\n",
       "      <td>NaN</td>\n",
       "      <td>NaN</td>\n",
       "      <td>NaN</td>\n",
       "      <td>NaN</td>\n",
       "      <td>NaN</td>\n",
       "      <td>NaN</td>\n",
       "      <td>NaN</td>\n",
       "      <td>Y</td>\n",
       "    </tr>\n",
       "    <tr>\n",
       "      <th>1</th>\n",
       "      <td>SYM2-1-288</td>\n",
       "      <td>2021-04-18</td>\n",
       "      <td>NaN</td>\n",
       "      <td>NaN</td>\n",
       "      <td>NaN</td>\n",
       "      <td>NaN</td>\n",
       "      <td>NaN</td>\n",
       "      <td>NaN</td>\n",
       "      <td>NaN</td>\n",
       "      <td>Y</td>\n",
       "    </tr>\n",
       "    <tr>\n",
       "      <th>2</th>\n",
       "      <td>SYM2-1-292</td>\n",
       "      <td>2021-06-08</td>\n",
       "      <td>1.0</td>\n",
       "      <td>Y</td>\n",
       "      <td>N</td>\n",
       "      <td>N</td>\n",
       "      <td>N</td>\n",
       "      <td>N</td>\n",
       "      <td>N</td>\n",
       "      <td>NaN</td>\n",
       "    </tr>\n",
       "    <tr>\n",
       "      <th>3</th>\n",
       "      <td>SYM2-1-292</td>\n",
       "      <td>2021-06-07</td>\n",
       "      <td>4.0</td>\n",
       "      <td>N</td>\n",
       "      <td>Y</td>\n",
       "      <td>Y</td>\n",
       "      <td>N</td>\n",
       "      <td>N</td>\n",
       "      <td>N</td>\n",
       "      <td>NaN</td>\n",
       "    </tr>\n",
       "    <tr>\n",
       "      <th>4</th>\n",
       "      <td>SYM2-1-292</td>\n",
       "      <td>2021-06-06</td>\n",
       "      <td>10.0</td>\n",
       "      <td>N</td>\n",
       "      <td>Y</td>\n",
       "      <td>N</td>\n",
       "      <td>N</td>\n",
       "      <td>N</td>\n",
       "      <td>N</td>\n",
       "      <td>NaN</td>\n",
       "    </tr>\n",
       "    <tr>\n",
       "      <th>...</th>\n",
       "      <td>...</td>\n",
       "      <td>...</td>\n",
       "      <td>...</td>\n",
       "      <td>...</td>\n",
       "      <td>...</td>\n",
       "      <td>...</td>\n",
       "      <td>...</td>\n",
       "      <td>...</td>\n",
       "      <td>...</td>\n",
       "      <td>...</td>\n",
       "    </tr>\n",
       "    <tr>\n",
       "      <th>1338</th>\n",
       "      <td>SYM2-1-634</td>\n",
       "      <td>2023-09-23</td>\n",
       "      <td>20.0</td>\n",
       "      <td>N</td>\n",
       "      <td>Y</td>\n",
       "      <td>N</td>\n",
       "      <td>N</td>\n",
       "      <td>N</td>\n",
       "      <td>N</td>\n",
       "      <td>NaN</td>\n",
       "    </tr>\n",
       "    <tr>\n",
       "      <th>1339</th>\n",
       "      <td>SYM2-1-634</td>\n",
       "      <td>2023-09-21</td>\n",
       "      <td>20.0</td>\n",
       "      <td>N</td>\n",
       "      <td>Y</td>\n",
       "      <td>N</td>\n",
       "      <td>N</td>\n",
       "      <td>N</td>\n",
       "      <td>N</td>\n",
       "      <td>NaN</td>\n",
       "    </tr>\n",
       "    <tr>\n",
       "      <th>1340</th>\n",
       "      <td>SYM2-1-634</td>\n",
       "      <td>2023-09-20</td>\n",
       "      <td>20.0</td>\n",
       "      <td>N</td>\n",
       "      <td>Y</td>\n",
       "      <td>N</td>\n",
       "      <td>N</td>\n",
       "      <td>N</td>\n",
       "      <td>Y</td>\n",
       "      <td>NaN</td>\n",
       "    </tr>\n",
       "    <tr>\n",
       "      <th>1341</th>\n",
       "      <td>SYM2-1-634</td>\n",
       "      <td>2023-09-18</td>\n",
       "      <td>20.0</td>\n",
       "      <td>N</td>\n",
       "      <td>Y</td>\n",
       "      <td>N</td>\n",
       "      <td>N</td>\n",
       "      <td>N</td>\n",
       "      <td>N</td>\n",
       "      <td>NaN</td>\n",
       "    </tr>\n",
       "    <tr>\n",
       "      <th>1342</th>\n",
       "      <td>SYM2-1-634</td>\n",
       "      <td>2023-09-17</td>\n",
       "      <td>20.0</td>\n",
       "      <td>N</td>\n",
       "      <td>N</td>\n",
       "      <td>Y</td>\n",
       "      <td>N</td>\n",
       "      <td>N</td>\n",
       "      <td>Y</td>\n",
       "      <td>NaN</td>\n",
       "    </tr>\n",
       "  </tbody>\n",
       "</table>\n",
       "<p>1343 rows × 10 columns</p>\n",
       "</div>"
      ]
     },
     "execution_count": 45,
     "metadata": {},
     "output_type": "execute_result"
    }
   ],
   "execution_count": 45
  },
  {
   "metadata": {
    "ExecuteTime": {
     "end_time": "2025-03-19T13:11:38.310182Z",
     "start_time": "2025-03-19T13:11:38.306186Z"
    }
   },
   "cell_type": "code",
   "source": "df.rename(columns={\"Non-identifying keys\":\"id\"},inplace=True)",
   "id": "71d81c42f0792d99",
   "outputs": [],
   "execution_count": 46
  },
  {
   "metadata": {
    "ExecuteTime": {
     "end_time": "2025-03-19T13:11:38.362664Z",
     "start_time": "2025-03-19T13:11:38.355527Z"
    }
   },
   "cell_type": "code",
   "source": "df.isna().sum()",
   "id": "f20911ffb43c75f9",
   "outputs": [
    {
     "data": {
      "text/plain": [
       "id                   0\n",
       "Date                 0\n",
       "Amount smoked      839\n",
       "Breakfast          868\n",
       "Lunch              868\n",
       "Dinner             868\n",
       "Morning snack      868\n",
       "Afternoon snack    868\n",
       "Midnight snacks    868\n",
       "Menstruation       477\n",
       "dtype: int64"
      ]
     },
     "execution_count": 47,
     "metadata": {},
     "output_type": "execute_result"
    }
   ],
   "execution_count": 47
  },
  {
   "metadata": {
    "ExecuteTime": {
     "end_time": "2025-03-19T13:11:38.471373Z",
     "start_time": "2025-03-19T13:11:38.466126Z"
    }
   },
   "cell_type": "code",
   "source": [
    "m = df[df[\"Menstruation\"]==\"해당없음\"].index\n",
    "df = df[~df.index.isin(m)]"
   ],
   "id": "8aadb87aa02f53ec",
   "outputs": [],
   "execution_count": 48
  },
  {
   "metadata": {
    "ExecuteTime": {
     "end_time": "2025-03-19T13:11:38.534556Z",
     "start_time": "2025-03-19T13:11:38.529201Z"
    }
   },
   "cell_type": "code",
   "source": "df[\"Amount smoked\"]=df[\"Amount smoked\"].fillna(0)",
   "id": "604744654125a1b1",
   "outputs": [
    {
     "name": "stderr",
     "output_type": "stream",
     "text": [
      "C:\\Users\\jainn\\AppData\\Local\\Temp\\ipykernel_24092\\2033135753.py:1: SettingWithCopyWarning: \n",
      "A value is trying to be set on a copy of a slice from a DataFrame.\n",
      "Try using .loc[row_indexer,col_indexer] = value instead\n",
      "\n",
      "See the caveats in the documentation: https://pandas.pydata.org/pandas-docs/stable/user_guide/indexing.html#returning-a-view-versus-a-copy\n",
      "  df[\"Amount smoked\"]=df[\"Amount smoked\"].fillna(0)\n"
     ]
    }
   ],
   "execution_count": 49
  },
  {
   "metadata": {
    "ExecuteTime": {
     "end_time": "2025-03-19T13:11:38.618208Z",
     "start_time": "2025-03-19T13:11:38.608847Z"
    }
   },
   "cell_type": "code",
   "source": [
    "replacement = {pd.NA:0,\"Y\":1,\"N\":0}\n",
    "df=df.replace(replacement)"
   ],
   "id": "d0981ad082f99601",
   "outputs": [
    {
     "name": "stderr",
     "output_type": "stream",
     "text": [
      "C:\\Users\\jainn\\AppData\\Local\\Temp\\ipykernel_24092\\2717994637.py:2: FutureWarning: Downcasting behavior in `replace` is deprecated and will be removed in a future version. To retain the old behavior, explicitly call `result.infer_objects(copy=False)`. To opt-in to the future behavior, set `pd.set_option('future.no_silent_downcasting', True)`\n",
      "  df=df.replace(replacement)\n"
     ]
    }
   ],
   "execution_count": 50
  },
  {
   "metadata": {
    "ExecuteTime": {
     "end_time": "2025-03-19T13:11:38.670142Z",
     "start_time": "2025-03-19T13:11:38.663089Z"
    }
   },
   "cell_type": "code",
   "source": "df.isna().sum()",
   "id": "c45d9e516e697cf8",
   "outputs": [
    {
     "data": {
      "text/plain": [
       "id                 0\n",
       "Date               0\n",
       "Amount smoked      0\n",
       "Breakfast          0\n",
       "Lunch              0\n",
       "Dinner             0\n",
       "Morning snack      0\n",
       "Afternoon snack    0\n",
       "Midnight snacks    0\n",
       "Menstruation       0\n",
       "dtype: int64"
      ]
     },
     "execution_count": 51,
     "metadata": {},
     "output_type": "execute_result"
    }
   ],
   "execution_count": 51
  },
  {
   "metadata": {
    "ExecuteTime": {
     "end_time": "2025-03-19T13:11:38.733185Z",
     "start_time": "2025-03-19T13:11:38.725219Z"
    }
   },
   "cell_type": "code",
   "source": "df[[\"id\",\"Date\"]].duplicated().sum()",
   "id": "8fb308088f74edf",
   "outputs": [
    {
     "data": {
      "text/plain": [
       "np.int64(0)"
      ]
     },
     "execution_count": 52,
     "metadata": {},
     "output_type": "execute_result"
    }
   ],
   "execution_count": 52
  },
  {
   "metadata": {
    "ExecuteTime": {
     "end_time": "2025-03-19T13:11:38.827459Z",
     "start_time": "2025-03-19T13:11:38.816458Z"
    }
   },
   "cell_type": "code",
   "source": [
    "df.columns=df.columns.str.lower()\n",
    "df.to_csv(\"../data_processed/daily_lifelog/smoking_eating_mensuration.csv\",index=False)"
   ],
   "id": "eebb59a125165d85",
   "outputs": [],
   "execution_count": 53
  }
 ],
 "metadata": {
  "kernelspec": {
   "display_name": "Python 3",
   "language": "python",
   "name": "python3"
  },
  "language_info": {
   "codemirror_mode": {
    "name": "ipython",
    "version": 2
   },
   "file_extension": ".py",
   "mimetype": "text/x-python",
   "name": "python",
   "nbconvert_exporter": "python",
   "pygments_lexer": "ipython2",
   "version": "2.7.6"
  }
 },
 "nbformat": 4,
 "nbformat_minor": 5
}
