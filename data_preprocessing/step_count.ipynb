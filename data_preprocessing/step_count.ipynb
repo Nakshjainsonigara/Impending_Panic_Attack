{
 "cells": [
  {
   "cell_type": "code",
   "id": "initial_id",
   "metadata": {
    "collapsed": true,
    "ExecuteTime": {
     "end_time": "2025-03-19T12:46:45.048048Z",
     "start_time": "2025-03-19T12:46:45.044683Z"
    }
   },
   "source": [
    "import numpy as np\n",
    "import pandas as pd\n",
    "import warnings\n",
    "import re\n",
    "warnings.filterwarnings(\"ignore\")"
   ],
   "outputs": [],
   "execution_count": 17
  },
  {
   "metadata": {
    "ExecuteTime": {
     "end_time": "2025-03-19T12:46:46.948999Z",
     "start_time": "2025-03-19T12:46:46.280092Z"
    }
   },
   "cell_type": "code",
   "source": [
    "df = pd.read_excel(\"../data/Dailylog data -lifelog/Lifestyle - Step count.xlsx\")\n",
    "df.columns=df.columns.str.lower()"
   ],
   "id": "2cd8b32eb906d116",
   "outputs": [],
   "execution_count": 18
  },
  {
   "metadata": {
    "ExecuteTime": {
     "end_time": "2025-03-19T12:46:47.824355Z",
     "start_time": "2025-03-19T12:46:47.812081Z"
    }
   },
   "cell_type": "code",
   "source": "df['date'] = pd.to_datetime(df['date'], format = '%Y-%m-%d %H:%M:%S')",
   "id": "db2d66f91a00767e",
   "outputs": [],
   "execution_count": 19
  },
  {
   "metadata": {
    "ExecuteTime": {
     "end_time": "2025-03-19T12:46:49.343690Z",
     "start_time": "2025-03-19T12:46:49.339165Z"
    }
   },
   "cell_type": "code",
   "source": "df.rename(columns={\"non-identifying keys\":\"id\"},inplace=True)",
   "id": "c23ccfb6739f440b",
   "outputs": [],
   "execution_count": 20
  },
  {
   "metadata": {
    "ExecuteTime": {
     "end_time": "2025-03-19T12:46:53.563496Z",
     "start_time": "2025-03-19T12:46:50.423695Z"
    }
   },
   "cell_type": "code",
   "source": [
    "steps = df[\"measure (-1: no value)\"].apply(lambda x: list(map(int, re.findall(r'\\d', str(x)))))\n",
    "steps = steps.apply(lambda x: x[:1440] if len(x) > 1440 else x + [0] * (1440 - len(x)))\n",
    "\n",
    "steps_array = np.array(steps.tolist())\n",
    "hourly_steps = steps_array.reshape(-1, 24, 60)\n",
    "\n",
    "hourly_variances = np.var(hourly_steps, axis=2)\n",
    "hourly_max = np.max(hourly_steps, axis=2)\n",
    "hourly_mean = np.mean(hourly_steps, axis=2)\n",
    "\n",
    "daily_sum = np.sum(hourly_variances, axis=1)\n",
    "daily_variance = np.mean(hourly_variances, axis=1)\n",
    "daily_max = np.max(hourly_max, axis=1)\n",
    "daily_mean = np.mean(hourly_mean, axis=1)\n",
    "\n",
    "df['daily_step_variance'] = daily_variance\n",
    "df['daily_max_steps'] = daily_max\n",
    "df['daily_mean_steps'] = daily_mean\n",
    "df['daly_sum_steps']=daily_sum\n",
    "\n",
    "\n",
    "print(df[['date', 'daily_step_variance', 'daily_max_steps', 'daily_mean_steps']].dropna())"
   ],
   "id": "3e1f233569fdc66a",
   "outputs": [
    {
     "name": "stdout",
     "output_type": "stream",
     "text": [
      "           date  daily_step_variance  daily_max_steps  daily_mean_steps\n",
      "0    2021-08-10                  0.0                0               0.0\n",
      "1    2021-08-09                  0.0                0               0.0\n",
      "2    2021-08-08                  0.0                0               0.0\n",
      "3    2021-08-07                  0.0                0               0.0\n",
      "4    2021-08-06                  0.0                0               0.0\n",
      "...         ...                  ...              ...               ...\n",
      "8527 2023-09-17                  0.0                0               0.0\n",
      "8528 2023-09-16                  0.0                0               0.0\n",
      "8529 2023-09-15                  0.0                0               0.0\n",
      "8530 2023-09-14                  0.0                0               0.0\n",
      "8531 2023-09-13                  0.0                0               0.0\n",
      "\n",
      "[8532 rows x 4 columns]\n"
     ]
    }
   ],
   "execution_count": 21
  },
  {
   "metadata": {
    "ExecuteTime": {
     "end_time": "2025-03-19T12:47:00.799045Z",
     "start_time": "2025-03-19T12:47:00.793820Z"
    }
   },
   "cell_type": "code",
   "source": "df.drop(columns=[\"measurement types\",\"units of measure\",\"measure (-1: no value)\",\"total steps\"],inplace=True)",
   "id": "984308150114a5a2",
   "outputs": [],
   "execution_count": 22
  },
  {
   "metadata": {
    "ExecuteTime": {
     "end_time": "2025-03-19T12:47:02.300727Z",
     "start_time": "2025-03-19T12:47:02.259632Z"
    }
   },
   "cell_type": "code",
   "source": [
    "df.set_index([\"id\",\"date\"],inplace=True)\n",
    "df.to_csv(\"../data_processed/daily_lifelog/step_count.csv\")"
   ],
   "id": "ed33c25f247307fb",
   "outputs": [],
   "execution_count": 23
  }
 ],
 "metadata": {
  "kernelspec": {
   "display_name": "Python 3",
   "language": "python",
   "name": "python3"
  },
  "language_info": {
   "codemirror_mode": {
    "name": "ipython",
    "version": 2
   },
   "file_extension": ".py",
   "mimetype": "text/x-python",
   "name": "python",
   "nbconvert_exporter": "python",
   "pygments_lexer": "ipython2",
   "version": "2.7.6"
  }
 },
 "nbformat": 4,
 "nbformat_minor": 5
}
